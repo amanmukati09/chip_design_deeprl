{
 "cells": [
  {
   "cell_type": "code",
   "execution_count": 179,
   "id": "00f03dfc-d37c-4b6f-bf49-959271f042fd",
   "metadata": {},
   "outputs": [],
   "source": [
    "import circuitgraph as cg"
   ]
  },
  {
   "cell_type": "code",
   "execution_count": 180,
   "id": "583dfaff-bc62-4232-9514-a261c49a9b55",
   "metadata": {},
   "outputs": [],
   "source": [
    "import pandas as pd\n",
    "import networkx as nx\n",
    "import os"
   ]
  },
  {
   "cell_type": "code",
   "execution_count": 181,
   "id": "68d92579-2820-462f-b337-17c4ecfe2038",
   "metadata": {},
   "outputs": [],
   "source": [
    "stdcelllib_path = \"../Data/stdcell45nm.xlsx\""
   ]
  },
  {
   "cell_type": "code",
   "execution_count": 182,
   "id": "b45b0fb5-ab36-4538-988a-b6a16ad180e8",
   "metadata": {},
   "outputs": [],
   "source": [
    "stdcell_lib_df  = pd.read_excel(stdcelllib_path)"
   ]
  },
  {
   "cell_type": "code",
   "execution_count": 183,
   "id": "435406a5-4bf2-47ca-934b-841d8c2c919b",
   "metadata": {},
   "outputs": [
    {
     "data": {
      "text/html": [
       "<div>\n",
       "<style scoped>\n",
       "    .dataframe tbody tr th:only-of-type {\n",
       "        vertical-align: middle;\n",
       "    }\n",
       "\n",
       "    .dataframe tbody tr th {\n",
       "        vertical-align: top;\n",
       "    }\n",
       "\n",
       "    .dataframe thead th {\n",
       "        text-align: right;\n",
       "    }\n",
       "</style>\n",
       "<table border=\"1\" class=\"dataframe\">\n",
       "  <thead>\n",
       "    <tr style=\"text-align: right;\">\n",
       "      <th></th>\n",
       "      <th>MACROS</th>\n",
       "      <th>AREA</th>\n",
       "    </tr>\n",
       "  </thead>\n",
       "  <tbody>\n",
       "    <tr>\n",
       "      <th>0</th>\n",
       "      <td>NAND2</td>\n",
       "      <td>1.8772</td>\n",
       "    </tr>\n",
       "    <tr>\n",
       "      <th>1</th>\n",
       "      <td>OR2</td>\n",
       "      <td>2.8158</td>\n",
       "    </tr>\n",
       "    <tr>\n",
       "      <th>2</th>\n",
       "      <td>BUF2</td>\n",
       "      <td>1.8772</td>\n",
       "    </tr>\n",
       "    <tr>\n",
       "      <th>3</th>\n",
       "      <td>BUF4</td>\n",
       "      <td>2.8158</td>\n",
       "    </tr>\n",
       "    <tr>\n",
       "      <th>4</th>\n",
       "      <td>NOT</td>\n",
       "      <td>1.7290</td>\n",
       "    </tr>\n",
       "    <tr>\n",
       "      <th>5</th>\n",
       "      <td>AND2</td>\n",
       "      <td>2.8158</td>\n",
       "    </tr>\n",
       "    <tr>\n",
       "      <th>6</th>\n",
       "      <td>NAND2</td>\n",
       "      <td>1.8772</td>\n",
       "    </tr>\n",
       "    <tr>\n",
       "      <th>7</th>\n",
       "      <td>NAND3</td>\n",
       "      <td>2.3465</td>\n",
       "    </tr>\n",
       "    <tr>\n",
       "      <th>8</th>\n",
       "      <td>AND3</td>\n",
       "      <td>3.2851</td>\n",
       "    </tr>\n",
       "    <tr>\n",
       "      <th>9</th>\n",
       "      <td>NOR2</td>\n",
       "      <td>1.8772</td>\n",
       "    </tr>\n",
       "    <tr>\n",
       "      <th>10</th>\n",
       "      <td>AND4</td>\n",
       "      <td>3.7544</td>\n",
       "    </tr>\n",
       "    <tr>\n",
       "      <th>11</th>\n",
       "      <td>NAND4</td>\n",
       "      <td>2.8158</td>\n",
       "    </tr>\n",
       "    <tr>\n",
       "      <th>12</th>\n",
       "      <td>OR3</td>\n",
       "      <td>3.2851</td>\n",
       "    </tr>\n",
       "    <tr>\n",
       "      <th>13</th>\n",
       "      <td>NOR3</td>\n",
       "      <td>2.3465</td>\n",
       "    </tr>\n",
       "    <tr>\n",
       "      <th>14</th>\n",
       "      <td>AND5</td>\n",
       "      <td>4.2237</td>\n",
       "    </tr>\n",
       "    <tr>\n",
       "      <th>15</th>\n",
       "      <td>NOR8</td>\n",
       "      <td>4.6930</td>\n",
       "    </tr>\n",
       "    <tr>\n",
       "      <th>16</th>\n",
       "      <td>OR4</td>\n",
       "      <td>3.7544</td>\n",
       "    </tr>\n",
       "    <tr>\n",
       "      <th>17</th>\n",
       "      <td>NOR4</td>\n",
       "      <td>2.8158</td>\n",
       "    </tr>\n",
       "    <tr>\n",
       "      <th>18</th>\n",
       "      <td>AND9</td>\n",
       "      <td>4.5600</td>\n",
       "    </tr>\n",
       "    <tr>\n",
       "      <th>19</th>\n",
       "      <td>DFFPOS</td>\n",
       "      <td>6.5702</td>\n",
       "    </tr>\n",
       "    <tr>\n",
       "      <th>20</th>\n",
       "      <td>DFFNEG</td>\n",
       "      <td>7.0395</td>\n",
       "    </tr>\n",
       "  </tbody>\n",
       "</table>\n",
       "</div>"
      ],
      "text/plain": [
       "    MACROS    AREA\n",
       "0    NAND2  1.8772\n",
       "1      OR2  2.8158\n",
       "2     BUF2  1.8772\n",
       "3     BUF4  2.8158\n",
       "4      NOT  1.7290\n",
       "5     AND2  2.8158\n",
       "6    NAND2  1.8772\n",
       "7    NAND3  2.3465\n",
       "8     AND3  3.2851\n",
       "9     NOR2  1.8772\n",
       "10    AND4  3.7544\n",
       "11   NAND4  2.8158\n",
       "12     OR3  3.2851\n",
       "13    NOR3  2.3465\n",
       "14    AND5  4.2237\n",
       "15    NOR8  4.6930\n",
       "16     OR4  3.7544\n",
       "17    NOR4  2.8158\n",
       "18    AND9  4.5600\n",
       "19  DFFPOS  6.5702\n",
       "20  DFFNEG  7.0395"
      ]
     },
     "execution_count": 183,
     "metadata": {},
     "output_type": "execute_result"
    }
   ],
   "source": [
    "stdcell_lib_df"
   ]
  },
  {
   "cell_type": "code",
   "execution_count": 184,
   "id": "0a82ae07-cf2e-42bb-9fd3-9c960a161b1b",
   "metadata": {},
   "outputs": [],
   "source": [
    "macros = list(stdcell_lib_df['MACROS'])"
   ]
  },
  {
   "cell_type": "code",
   "execution_count": 185,
   "id": "ceadb280-8002-4125-b7f3-25d964370271",
   "metadata": {},
   "outputs": [],
   "source": [
    "areas = list(stdcell_lib_df['AREA'])"
   ]
  },
  {
   "cell_type": "code",
   "execution_count": 186,
   "id": "c8751cff-ec7e-4235-8df3-5d32d9031862",
   "metadata": {},
   "outputs": [],
   "source": [
    "stdcell_description = dict(zip(macros, areas))"
   ]
  },
  {
   "cell_type": "code",
   "execution_count": 187,
   "id": "b60f4b2e-a686-42b4-9095-c907120a9f89",
   "metadata": {},
   "outputs": [],
   "source": [
    "circuits_path = \"../Data/Circuits\""
   ]
  },
  {
   "cell_type": "code",
   "execution_count": 194,
   "id": "0ded4584-770e-4211-b992-87639ba0c03d",
   "metadata": {},
   "outputs": [],
   "source": [
    "list_of_circuits = os.listdir(circuits_path)"
   ]
  },
  {
   "cell_type": "code",
   "execution_count": 195,
   "id": "aab88033",
   "metadata": {},
   "outputs": [],
   "source": [
    "path = f'{circuits_path}/{list_of_circuits[0]}'"
   ]
  },
  {
   "cell_type": "code",
   "execution_count": 196,
   "id": "b21b0bd2-bb65-4cf6-9d77-f96b19149c20",
   "metadata": {},
   "outputs": [
    {
     "data": {
      "text/plain": [
       "'../Data/Circuits/c17.v'"
      ]
     },
     "execution_count": 196,
     "metadata": {},
     "output_type": "execute_result"
    }
   ],
   "source": [
    "path"
   ]
  },
  {
   "cell_type": "code",
   "execution_count": 197,
   "id": "a42dc85d-7cdd-46f9-a34b-416c36f460f9",
   "metadata": {},
   "outputs": [],
   "source": [
    "c = cg.from_file(path)"
   ]
  },
  {
   "cell_type": "code",
   "execution_count": 202,
   "id": "d6bb461a-584d-4af6-8984-db9aa8c98a1d",
   "metadata": {},
   "outputs": [
    {
     "data": {
      "text/plain": [
       "{'N1', 'N2', 'N3', 'N6', 'N7'}"
      ]
     },
     "execution_count": 202,
     "metadata": {},
     "output_type": "execute_result"
    }
   ],
   "source": [
    "c.inputs()"
   ]
  },
  {
   "cell_type": "code",
   "execution_count": 203,
   "id": "49f27a92-9cf9-429b-9fd0-64dd31be804d",
   "metadata": {},
   "outputs": [
    {
     "data": {
      "text/plain": [
       "{'N22', 'N23'}"
      ]
     },
     "execution_count": 203,
     "metadata": {},
     "output_type": "execute_result"
    }
   ],
   "source": [
    "c.outputs()"
   ]
  },
  {
   "cell_type": "code",
   "execution_count": 204,
   "id": "77fff5c5-09db-4850-a628-4e2d5d2e10d3",
   "metadata": {},
   "outputs": [
    {
     "data": {
      "text/plain": [
       "{'N10', 'N11', 'N16', 'N19', 'N22', 'N23'}"
      ]
     },
     "execution_count": 204,
     "metadata": {},
     "output_type": "execute_result"
    }
   ],
   "source": [
    "c.filter_type('nand')"
   ]
  },
  {
   "cell_type": "code",
   "execution_count": null,
   "id": "19aeeb5a-ffeb-4709-9dd5-7d99636c8c82",
   "metadata": {},
   "outputs": [],
   "source": []
  },
  {
   "cell_type": "code",
   "execution_count": null,
   "id": "7bf2f110-6454-4375-a5a9-820209872c20",
   "metadata": {},
   "outputs": [],
   "source": []
  }
 ],
 "metadata": {
  "kernelspec": {
   "display_name": "Python 3 (ipykernel)",
   "language": "python",
   "name": "python3"
  },
  "language_info": {
   "codemirror_mode": {
    "name": "ipython",
    "version": 3
   },
   "file_extension": ".py",
   "mimetype": "text/x-python",
   "name": "python",
   "nbconvert_exporter": "python",
   "pygments_lexer": "ipython3",
   "version": "3.12.0"
  }
 },
 "nbformat": 4,
 "nbformat_minor": 5
}
