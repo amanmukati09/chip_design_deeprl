{
 "cells": [
  {
   "cell_type": "code",
   "execution_count": 278,
   "id": "00f03dfc-d37c-4b6f-bf49-959271f042fd",
   "metadata": {},
   "outputs": [],
   "source": [
    "import circuitgraph as cg\n",
    "import pandas as pd\n",
    "import networkx as nx\n",
    "import os\n",
    "import math\n",
    "from circuitgraph.io import genus_flops, generic_flop, dc_flops\n",
    "from circuitgraph import BlackBox"
   ]
  },
  {
   "cell_type": "markdown",
   "id": "31952a67-5c84-4f86-b625-e88bf77c4611",
   "metadata": {},
   "source": [
    "### Making Stdcell library dict"
   ]
  },
  {
   "cell_type": "code",
   "execution_count": 279,
   "id": "f14d7961-b657-4d95-9c03-b4f866a6ce25",
   "metadata": {},
   "outputs": [],
   "source": [
    "stdcell45nmlib = pd.read_excel(\"../Data/stdcell45nm.xlsx\")"
   ]
  },
  {
   "cell_type": "code",
   "execution_count": 280,
   "id": "f7fdbcf0-d601-4f96-b5f4-53a0e2824a78",
   "metadata": {},
   "outputs": [],
   "source": [
    "# stdcell45nmlib"
   ]
  },
  {
   "cell_type": "code",
   "execution_count": 281,
   "id": "add60c7f-5be6-4542-91a6-76d3bc2d81b7",
   "metadata": {},
   "outputs": [],
   "source": [
    "# NodeArea = stdcell45nmlib[stdcell45nmlib['macro'] == 'nand']['area']\n",
    "# NodeArea.iloc[0]"
   ]
  },
  {
   "cell_type": "code",
   "execution_count": 282,
   "id": "38c7ee19-c12d-497a-8d94-026acc8d2460",
   "metadata": {},
   "outputs": [],
   "source": [
    "macro_area_dict = dict(zip(stdcell45nmlib.macro, stdcell45nmlib.area))"
   ]
  },
  {
   "cell_type": "code",
   "execution_count": 283,
   "id": "22490916-dac5-435e-a91f-21ec6eee228f",
   "metadata": {},
   "outputs": [],
   "source": [
    "circuits_path = \"../Data/Circuits/\"\n",
    "circuits_list  = os.listdir(circuits_path)"
   ]
  },
  {
   "cell_type": "code",
   "execution_count": 284,
   "id": "2968b1b5-9101-4327-baf4-042fcb15be68",
   "metadata": {},
   "outputs": [],
   "source": [
    "def gate_count(circuit_name):\n",
    "    \n",
    "    '''Pass the full path '''\n",
    "    \n",
    "    gates_count_dict = dict()\n",
    "    circuit = cg.from_file(circuit_name, blackboxes=genus_flops + dc_flops + [generic_flop])\n",
    "    list_of_macros = list(stdcell45nmlib.macro)\n",
    "    for macro in list_of_macros:\n",
    "        if macro=='fflopd':\n",
    "            macro = 'bb_output'              \n",
    "            \n",
    "        cnt = len(circuit.filter_type(macro))\n",
    "        \n",
    "        if macro == 'buf':\n",
    "            if circuit_name != '../Data/Circuits/s27_unrolled_4.v':\n",
    "                cnt = 0\n",
    "        if macro=='bb_output':\n",
    "            macro='fflopd'\n",
    "            \n",
    "        gates_count_dict.update({macro:cnt})\n",
    "    return gates_count_dict\n"
   ]
  },
  {
   "cell_type": "code",
   "execution_count": 285,
   "id": "56e26a38-ef34-4e52-8c4b-0fb9792a2e71",
   "metadata": {},
   "outputs": [],
   "source": [
    "def total_gates_in_circuit(circuit_name):\n",
    "    \"\"\" Pass the full path...\"\"\"\n",
    "    gates_count_dict = gate_count(circuit_name)\n",
    "    total = 0\n",
    "    for i,j in gates_count_dict.items():\n",
    "        total = total + j\n",
    "    return total"
   ]
  },
  {
   "cell_type": "code",
   "execution_count": 286,
   "id": "dfdf3e7f-87cf-4dfb-b799-ed97a20fb6cd",
   "metadata": {},
   "outputs": [],
   "source": [
    "def get_grid_size(circuit_name):\n",
    "    '''\n",
    "    Get a tuple containing grid size for our graph in chip design environment.\n",
    "    \n",
    "    '''\n",
    "    get_circuit_gate_dict = gate_count(circuit_name)\n",
    "    \n",
    "    total_area_grid = 0\n",
    "    for macro,count in get_circuit_gate_dict.items():\n",
    "        total_area_grid = total_area_grid + (count * math.ceil(macro_area_dict[macro]))\n",
    "\n",
    "    float_root_area_row = math.ceil(math.sqrt(total_area_grid)) +1\n",
    "    return (float_root_area_row, float_root_area_row)"
   ]
  },
  {
   "cell_type": "code",
   "execution_count": 287,
   "id": "dcb3ee9a-515f-44f1-8e1b-0cfb3459a381",
   "metadata": {},
   "outputs": [],
   "source": [
    "def addCircuitInfo(netlist):\n",
    "    \"\"\"\n",
    "    This will take circuit as a parameter.\n",
    "    and will fill our circuit_info table about gates and their counts and other things.\n",
    "    \"\"\"\n",
    "    row = list()\n",
    "    \n",
    "    actual_path = circuits_path + netlist\n",
    "    \n",
    "    row.append(netlist)\n",
    "    \n",
    "    gates_count_dict = gate_count(actual_path)\n",
    "    \n",
    "    grid_width,grid_height = get_grid_size(actual_path)\n",
    "    row.append(grid_width)\n",
    "    row.append(grid_height)\n",
    "    \n",
    "    total_gates = total_gates_in_circuit(actual_path)\n",
    "    row.append(total_gates)\n",
    "    \n",
    "    for macro,cnt in gates_count_dict.items():\n",
    "        row.append(cnt)\n",
    "        \n",
    "    circuit_area_df.loc[circuit_area_df.shape[0]] = row"
   ]
  },
  {
   "cell_type": "code",
   "execution_count": 288,
   "id": "7acd6679-4ba2-4cf0-9719-8b801398e5e7",
   "metadata": {},
   "outputs": [],
   "source": [
    "# circuit_area_df.to_excel('circuit_information.xlsx')"
   ]
  },
  {
   "cell_type": "code",
   "execution_count": 289,
   "id": "1914ed71-7144-4754-8567-ce7fb8d457f1",
   "metadata": {},
   "outputs": [],
   "source": [
    "# circuit = cg.from_file('../Data/Circuits/s13207.v', blackboxes = [generic_flop] + genus_flops + dc_flops)"
   ]
  },
  {
   "cell_type": "code",
   "execution_count": 290,
   "id": "171bbc0f-2788-42d2-a726-34dab8ea1530",
   "metadata": {},
   "outputs": [],
   "source": [
    "# df = pd.read_excel('../Data/circuit_information.xlsx')"
   ]
  },
  {
   "cell_type": "code",
   "execution_count": 291,
   "id": "f494712a-f5fa-4ce7-aed7-9fba049b7b24",
   "metadata": {},
   "outputs": [],
   "source": [
    "circuit_information = pd.read_excel('../Data/circuit_information.xlsx')"
   ]
  },
  {
   "cell_type": "code",
   "execution_count": 292,
   "id": "12640a1c-8bff-4db3-9085-3bf54717cedb",
   "metadata": {},
   "outputs": [],
   "source": [
    "# circuit_information"
   ]
  },
  {
   "cell_type": "code",
   "execution_count": 293,
   "id": "5e01362c-3b7d-4ad4-a6b4-c05e07d0965c",
   "metadata": {},
   "outputs": [],
   "source": [
    "def dict_of_node_to_attributes(circuit_name):\n",
    "    '''\n",
    "    Given circuit now make a dictionary for like node and it's attributes\n",
    "    eg. N1 : {nand, power, area, capacitance_1, capacitance_2}\n",
    "    '''\n",
    "    macros_list = list(stdcell45nmlib.macro)\n",
    "    macros_list.append('bb_input')\n",
    "    \n",
    "    circuit = cg.from_file(f'../Data/Circuits/{circuit_name}', blackboxes=[generic_flop] + genus_flops + dc_flops)\n",
    "    mapping = dict()\n",
    "    \n",
    "    for node in circuit.nodes():\n",
    "        info = dict()\n",
    "        \n",
    "        if circuit.type(node) in macros_list:\n",
    "            NodeArea = stdcell45nmlib[stdcell45nmlib['macro'] == circuit.type(node)]['area']\n",
    "            NodePower = stdcell45nmlib[stdcell45nmlib['macro'] == circuit.type(node)]['l_power']\n",
    "            NodeCap1 = stdcell45nmlib[stdcell45nmlib['macro'] == circuit.type(node)]['p1_cap']\n",
    "            NodeCap2 = stdcell45nmlib[stdcell45nmlib['macro'] == circuit.type(node)]['p2_cap']\n",
    "\n",
    "            info.update({'type': circuit.type(node)})\n",
    "            info.update({'area': NodeArea.iloc[0] })\n",
    "            info.update({'power': NodePower.iloc[0]})\n",
    "            info.update({'p1_cap': NodeCap1.iloc[0]})\n",
    "            info.update({'p2_cap': NodeCap2.iloc[0]})\n",
    "\n",
    "\n",
    "            mapping.update({node : info})\n",
    "\n",
    "    return mapping  "
   ]
  },
  {
   "cell_type": "code",
   "execution_count": 294,
   "id": "6ef470d2-df34-4b58-8be9-cea887d15920",
   "metadata": {},
   "outputs": [],
   "source": [
    "# dict_of_node_to_attributes('c432.v')"
   ]
  },
  {
   "cell_type": "code",
   "execution_count": 295,
   "id": "d82a8753-4b00-4f41-b766-e5ae0754e71d",
   "metadata": {},
   "outputs": [],
   "source": [
    "# chip = ChipDesignGraph('c17.v')\n",
    "# circ = chip.get_circuit()"
   ]
  },
  {
   "cell_type": "code",
   "execution_count": 296,
   "id": "43577256-a375-4dbc-98a8-740b3ece5aac",
   "metadata": {},
   "outputs": [],
   "source": [
    "# circ.edges()"
   ]
  },
  {
   "cell_type": "code",
   "execution_count": 297,
   "id": "d0001d6f-2e2c-41b5-9d55-282d98e6ada4",
   "metadata": {},
   "outputs": [],
   "source": [
    "# imp_nodes = chip.dict_of_node_to_attributes_"
   ]
  },
  {
   "cell_type": "code",
   "execution_count": 298,
   "id": "db520936-878e-4f84-8f31-fae8e2298995",
   "metadata": {},
   "outputs": [],
   "source": [
    "class ChipDesignGraph:\n",
    "    def __init__(self,circuit_name):\n",
    "        self.circuit = cg.from_file(f'../Data/Circuits/{circuit_name}', blackboxes= genus_flops + dc_flops + [generic_flop])\n",
    "        self.circuit_name = self.circuit.name+'.v'\n",
    "        self.grid_size = get_grid_size(f'../Data/Circuits/{circuit_name}')\n",
    "        self.design_graph = nx.grid_2d_graph(*self.grid_size)\n",
    "        self.node_attributes = {}\n",
    "        self.edge_attributes = {}\n",
    "        self.dict_of_node_to_attributes_ = dict_of_node_to_attributes(self.circuit_name) \n",
    "        \n",
    "\n",
    "    def get_circuit(self):\n",
    "        return self.circuit  \n",
    "        \n",
    "    def get_gates(self):\n",
    "        gates = set()\n",
    "        for i,j in self.dict_of_node_to_attributes_.items():\n",
    "            gates.add(i)\n",
    "        return gates\n",
    "\n",
    "    def get_edges(self):\n",
    "        edges = set()\n",
    "        for i,j in self.circuit.edges():\n",
    "            if i in self.get_gates():\n",
    "                edges.add((i,j))\n",
    "        return edges\n",
    "        \n",
    "        \n",
    "        \n",
    "\n",
    "    def add_node_attributes(self,  node_name_in):\n",
    "        \"\"\"\n",
    "        Add attributes to each node in the graph.\n",
    "        node_data: Dictionary mapping node IDs to attribute dictionaries.\n",
    "        \"\"\"\n",
    "\n",
    "        node_data = {node_name_in: self.dict_of_node_to_attributes_[node_name_in]}\n",
    "        \n",
    "        self.node_attributes.update(node_data)\n",
    "        # for node, data in node_data.items():\n",
    "        #     self.design_graph.nodes[node].update(data)\n",
    "\n",
    "    \n",
    "    def add_edge_attributes(self, edge_data):\n",
    "        \"\"\"\n",
    "        Add attributes to edges in the graph.\n",
    "        edge_data: Dictionary mapping edge tuples (u, v) to attribute dictionaries.\n",
    "        \"\"\"\n",
    "        self.edge_attributes.update(edge_data)\n",
    "        # for edge, data in edge_data.items():\n",
    "        #     self.design_graph.edges[edge].update(data)\n",
    "\n",
    "    \n",
    "    def DrawGraph(self):\n",
    "        return nx.draw_spectral(self.design_graph)"
   ]
  },
  {
   "cell_type": "code",
   "execution_count": 299,
   "id": "1a09b059-a46b-45b6-8868-20fccff35ade",
   "metadata": {},
   "outputs": [],
   "source": [
    "def add_to_dictionary(circuit_name):\n",
    "    cgraph = ChipDesignGraph(f'../Data/Circuits/{circuit_name}')\n",
    "    c = cgraph.get_circuit()\n",
    "    \n",
    "    ls_and = set()\n",
    "    ls_or = set()\n",
    "    ls_nand = set()\n",
    "    ls_nor = set()\n",
    "    ls_not = set()\n",
    "    ls_buf = set()\n",
    "    ls_fflopd = set()\n",
    "    \n",
    "    for node in c.nodes():\n",
    "        if c.type(node) == 'and':\n",
    "            ls_and.add(node)\n",
    "        if c.type(node) == 'or':\n",
    "            ls_or.add(node)\n",
    "        if c.type(node) == 'nand':\n",
    "            ls_nand.add(node)\n",
    "        if c.type(node) == 'nor':\n",
    "            ls_nor.add(node)\n",
    "        if c.type(node) == 'not':\n",
    "            ls_not.add(node)\n",
    "        if c.type(node) == 'buf':\n",
    "            ls_buf.add(node)\n",
    "        if c.type(node) == 'bb_input':\n",
    "            if '_reg.D' in node:\n",
    "                ls_fflopd.add(node)\n",
    "            \n",
    "        \n",
    "    cr = {circuit_name : {\n",
    "        'nodes' : c.nodes(),\n",
    "        'n_and' : ls_and,\n",
    "        'n_or' : ls_or,\n",
    "        'n_nand' : ls_nand,\n",
    "        'n_nor' : ls_nor,\n",
    "        'n_not' : ls_not,\n",
    "        'n_buf' : ls_buf,\n",
    "        'n_fflopd' : ls_fflopd,\n",
    "    }}\n",
    "    \n",
    "    circuit_dict.update(cr)\n",
    "    circuit_dict"
   ]
  },
  {
   "cell_type": "code",
   "execution_count": 300,
   "id": "199dd66b-1f9d-4c0e-94a0-a7f7dd1f6162",
   "metadata": {},
   "outputs": [],
   "source": [
    "# canvas = ChipDesignGraph('c17.v')\n",
    "# canvas.design_graph.edges[((0,0),(0,1))].update({5:6})"
   ]
  },
  {
   "cell_type": "code",
   "execution_count": 301,
   "id": "0c9557fa-de1f-4164-a6f8-d1395299c165",
   "metadata": {},
   "outputs": [],
   "source": [
    "# chip.dict_of_node_to_attributes_"
   ]
  },
  {
   "cell_type": "code",
   "execution_count": 302,
   "id": "f5a4ab77-1c34-47d4-a929-10b0766fc450",
   "metadata": {},
   "outputs": [],
   "source": [
    "# canvas.get_edges()"
   ]
  },
  {
   "cell_type": "code",
   "execution_count": 303,
   "id": "651eba2d-a85b-4d04-b3c0-cc688d20903f",
   "metadata": {},
   "outputs": [],
   "source": [
    "# chip_canvas = canvas.get_circuit()"
   ]
  },
  {
   "cell_type": "code",
   "execution_count": 304,
   "id": "3bd5b418-badf-46d9-ada1-a74361a023e8",
   "metadata": {},
   "outputs": [],
   "source": [
    "# chip_canvas.type('N16')"
   ]
  },
  {
   "cell_type": "code",
   "execution_count": 305,
   "id": "63008b81-de3d-4ca7-b045-cf633dd6096c",
   "metadata": {},
   "outputs": [],
   "source": [
    "# canvas.add_node_attributes('N16')"
   ]
  }
 ],
 "metadata": {
  "kernelspec": {
   "display_name": "Python 3 (ipykernel)",
   "language": "python",
   "name": "python3"
  },
  "language_info": {
   "codemirror_mode": {
    "name": "ipython",
    "version": 3
   },
   "file_extension": ".py",
   "mimetype": "text/x-python",
   "name": "python",
   "nbconvert_exporter": "python",
   "pygments_lexer": "ipython3",
   "version": "3.12.0"
  }
 },
 "nbformat": 4,
 "nbformat_minor": 5
}
