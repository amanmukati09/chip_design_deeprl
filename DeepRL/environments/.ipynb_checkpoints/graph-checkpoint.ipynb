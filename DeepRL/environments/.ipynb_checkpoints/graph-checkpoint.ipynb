{
 "cells": [
  {
   "cell_type": "code",
   "execution_count": 429,
   "id": "00f03dfc-d37c-4b6f-bf49-959271f042fd",
   "metadata": {},
   "outputs": [],
   "source": [
    "import circuitgraph as cg\n",
    "import pandas as pd\n",
    "import networkx as nx\n",
    "import os\n",
    "import math"
   ]
  },
  {
   "cell_type": "code",
   "execution_count": 430,
   "id": "68d92579-2820-462f-b337-17c4ecfe2038",
   "metadata": {},
   "outputs": [],
   "source": [
    "stdcelllib_path = \"../Data/stdcell45nm.xlsx\""
   ]
  },
  {
   "cell_type": "code",
   "execution_count": 431,
   "id": "b45b0fb5-ab36-4538-988a-b6a16ad180e8",
   "metadata": {},
   "outputs": [],
   "source": [
    "stdcell_lib_df  = pd.read_excel(stdcelllib_path)"
   ]
  },
  {
   "cell_type": "code",
   "execution_count": 432,
   "id": "435406a5-4bf2-47ca-934b-841d8c2c919b",
   "metadata": {},
   "outputs": [
    {
     "data": {
      "text/html": [
       "<div>\n",
       "<style scoped>\n",
       "    .dataframe tbody tr th:only-of-type {\n",
       "        vertical-align: middle;\n",
       "    }\n",
       "\n",
       "    .dataframe tbody tr th {\n",
       "        vertical-align: top;\n",
       "    }\n",
       "\n",
       "    .dataframe thead th {\n",
       "        text-align: right;\n",
       "    }\n",
       "</style>\n",
       "<table border=\"1\" class=\"dataframe\">\n",
       "  <thead>\n",
       "    <tr style=\"text-align: right;\">\n",
       "      <th></th>\n",
       "      <th>MACROS</th>\n",
       "      <th>AREA</th>\n",
       "    </tr>\n",
       "  </thead>\n",
       "  <tbody>\n",
       "    <tr>\n",
       "      <th>0</th>\n",
       "      <td>nand</td>\n",
       "      <td>2.8158</td>\n",
       "    </tr>\n",
       "    <tr>\n",
       "      <th>1</th>\n",
       "      <td>or</td>\n",
       "      <td>3.7544</td>\n",
       "    </tr>\n",
       "    <tr>\n",
       "      <th>2</th>\n",
       "      <td>buf</td>\n",
       "      <td>2.8158</td>\n",
       "    </tr>\n",
       "    <tr>\n",
       "      <th>3</th>\n",
       "      <td>not</td>\n",
       "      <td>1.7290</td>\n",
       "    </tr>\n",
       "    <tr>\n",
       "      <th>4</th>\n",
       "      <td>and</td>\n",
       "      <td>4.5600</td>\n",
       "    </tr>\n",
       "    <tr>\n",
       "      <th>5</th>\n",
       "      <td>nor</td>\n",
       "      <td>4.6930</td>\n",
       "    </tr>\n",
       "    <tr>\n",
       "      <th>6</th>\n",
       "      <td>dffpos</td>\n",
       "      <td>6.5702</td>\n",
       "    </tr>\n",
       "    <tr>\n",
       "      <th>7</th>\n",
       "      <td>dffneg</td>\n",
       "      <td>7.0395</td>\n",
       "    </tr>\n",
       "  </tbody>\n",
       "</table>\n",
       "</div>"
      ],
      "text/plain": [
       "   MACROS    AREA\n",
       "0    nand  2.8158\n",
       "1      or  3.7544\n",
       "2     buf  2.8158\n",
       "3     not  1.7290\n",
       "4     and  4.5600\n",
       "5     nor  4.6930\n",
       "6  dffpos  6.5702\n",
       "7  dffneg  7.0395"
      ]
     },
     "execution_count": 432,
     "metadata": {},
     "output_type": "execute_result"
    }
   ],
   "source": [
    "stdcell_lib_df"
   ]
  },
  {
   "cell_type": "code",
   "execution_count": 433,
   "id": "8b42f59e-43e0-457e-a267-b4307484e492",
   "metadata": {},
   "outputs": [],
   "source": [
    "grid_size_df = pd.read_excel('../Data/grid_size.xlsx')"
   ]
  },
  {
   "cell_type": "code",
   "execution_count": 434,
   "id": "8e21f001-097d-4fc2-9482-2a369a0b85f5",
   "metadata": {},
   "outputs": [
    {
     "data": {
      "text/html": [
       "<div>\n",
       "<style scoped>\n",
       "    .dataframe tbody tr th:only-of-type {\n",
       "        vertical-align: middle;\n",
       "    }\n",
       "\n",
       "    .dataframe tbody tr th {\n",
       "        vertical-align: top;\n",
       "    }\n",
       "\n",
       "    .dataframe thead th {\n",
       "        text-align: right;\n",
       "    }\n",
       "</style>\n",
       "<table border=\"1\" class=\"dataframe\">\n",
       "  <thead>\n",
       "    <tr style=\"text-align: right;\">\n",
       "      <th></th>\n",
       "      <th>CIRCUIT</th>\n",
       "      <th>grid_width</th>\n",
       "      <th>grid_height</th>\n",
       "    </tr>\n",
       "  </thead>\n",
       "  <tbody>\n",
       "    <tr>\n",
       "      <th>0</th>\n",
       "      <td>c17.v</td>\n",
       "      <td>5.0</td>\n",
       "      <td>5.0</td>\n",
       "    </tr>\n",
       "    <tr>\n",
       "      <th>1</th>\n",
       "      <td>c3540.v</td>\n",
       "      <td>73.0</td>\n",
       "      <td>73.0</td>\n",
       "    </tr>\n",
       "    <tr>\n",
       "      <th>2</th>\n",
       "      <td>c5315.v</td>\n",
       "      <td>86.0</td>\n",
       "      <td>86.0</td>\n",
       "    </tr>\n",
       "    <tr>\n",
       "      <th>3</th>\n",
       "      <td>c6288.v</td>\n",
       "      <td>106.0</td>\n",
       "      <td>106.0</td>\n",
       "    </tr>\n",
       "    <tr>\n",
       "      <th>4</th>\n",
       "      <td>c7552.v</td>\n",
       "      <td>104.0</td>\n",
       "      <td>104.0</td>\n",
       "    </tr>\n",
       "  </tbody>\n",
       "</table>\n",
       "</div>"
      ],
      "text/plain": [
       "   CIRCUIT  grid_width  grid_height\n",
       "0    c17.v         5.0          5.0\n",
       "1  c3540.v        73.0         73.0\n",
       "2  c5315.v        86.0         86.0\n",
       "3  c6288.v       106.0        106.0\n",
       "4  c7552.v       104.0        104.0"
      ]
     },
     "execution_count": 434,
     "metadata": {},
     "output_type": "execute_result"
    }
   ],
   "source": [
    "grid_size_df.head()"
   ]
  },
  {
   "cell_type": "code",
   "execution_count": 435,
   "id": "3589eed8-d548-474b-b00c-3225b6e8bfc9",
   "metadata": {},
   "outputs": [
    {
     "data": {
      "text/plain": [
       "(5.0, 5.0)"
      ]
     },
     "execution_count": 435,
     "metadata": {},
     "output_type": "execute_result"
    }
   ],
   "source": [
    "circuit_info = dict(zip(grid_size_df.CIRCUIT, zip(grid_size_df.grid_width, grid_size_df.grid_height)))\n",
    "circuit_info['c17.v']"
   ]
  },
  {
   "cell_type": "code",
   "execution_count": 436,
   "id": "ebac3218-eabc-4758-9d13-e02eb834996d",
   "metadata": {},
   "outputs": [
    {
     "data": {
      "text/plain": [
       "0    nand\n",
       "1      or\n",
       "2     buf\n",
       "3     not\n",
       "4     and\n",
       "5     nor\n",
       "Name: MACROS, dtype: object"
      ]
     },
     "execution_count": 436,
     "metadata": {},
     "output_type": "execute_result"
    }
   ],
   "source": [
    "stdcell_lib_df['MACROS'][:-2]\n"
   ]
  },
  {
   "cell_type": "code",
   "execution_count": 437,
   "id": "8f2265a1-bf7c-4e1f-9eb1-7ed9e8896142",
   "metadata": {},
   "outputs": [
    {
     "data": {
      "text/plain": [
       "{'nand': 2.8158,\n",
       " 'or': 3.7544,\n",
       " 'buf': 2.8158,\n",
       " 'not': 1.729,\n",
       " 'and': 4.56,\n",
       " 'nor': 4.693}"
      ]
     },
     "execution_count": 437,
     "metadata": {},
     "output_type": "execute_result"
    }
   ],
   "source": [
    "stdcell_lib_info = dict(zip(stdcell_lib_df['MACROS'][:-2], stdcell_lib_df['AREA'][:-2]))\n",
    "stdcell_lib_info"
   ]
  },
  {
   "cell_type": "code",
   "execution_count": 438,
   "id": "fc5c47f6-fed6-4309-89ab-f939f3a3a725",
   "metadata": {},
   "outputs": [],
   "source": [
    "x = cg.from_lib('s38584')"
   ]
  },
  {
   "cell_type": "code",
   "execution_count": 469,
   "id": "39aaa931-3b22-4410-af4d-25702c9c025f",
   "metadata": {},
   "outputs": [
    {
     "data": {
      "text/plain": [
       "6436"
      ]
     },
     "execution_count": 469,
     "metadata": {},
     "output_type": "execute_result"
    }
   ],
   "source": [
    "len(x.filter_type('nand'))"
   ]
  },
  {
   "cell_type": "code",
   "execution_count": 423,
   "id": "f85e57ca-ce1a-44c8-b5ae-4804c577d5d5",
   "metadata": {},
   "outputs": [],
   "source": [
    "ans = 0\n",
    "for a,b in stdcell_lib_info.items():\n",
    "    ans = ans + (len(x.filter_type(a)) * b)\n"
   ]
  },
  {
   "cell_type": "code",
   "execution_count": 453,
   "id": "bef7de41-2f6f-49bc-bb50-039a007c8646",
   "metadata": {},
   "outputs": [
    {
     "data": {
      "text/plain": [
       "171.84607356585136"
      ]
     },
     "execution_count": 453,
     "metadata": {},
     "output_type": "execute_result"
    }
   ],
   "source": [
    "math.sqrt(ans)"
   ]
  },
  {
   "cell_type": "code",
   "execution_count": 457,
   "id": "23574e82-4636-4dc2-95aa-93d2accf7ab6",
   "metadata": {},
   "outputs": [],
   "source": [
    "with open('../Data/Circuits/s38584.v', 'r') as f:\n",
    "    files_reading = f.read()\n"
   ]
  },
  {
   "cell_type": "code",
   "execution_count": 460,
   "id": "8fecbb0c-f4b4-4cbe-840e-08ad034226f1",
   "metadata": {},
   "outputs": [],
   "source": [
    "arr = files_reading.split(' ')"
   ]
  },
  {
   "cell_type": "code",
   "execution_count": 467,
   "id": "7e5ad157-115d-43ee-bbad-4192e0c5a105",
   "metadata": {},
   "outputs": [
    {
     "data": {
      "text/plain": [
       "6436"
      ]
     },
     "execution_count": 467,
     "metadata": {},
     "output_type": "execute_result"
    }
   ],
   "source": [
    "y = filter(lambda x : x == 'nand', arr)\n",
    "len(list(y))"
   ]
  },
  {
   "cell_type": "code",
   "execution_count": 468,
   "id": "f5cb6f41-09d0-4d95-9449-604f6e7a2ace",
   "metadata": {},
   "outputs": [],
   "source": [
    "from circuitgraph.io import genus_flops, generic_flop, dc_flops\n",
    "from circuitgraph import BlackBox"
   ]
  },
  {
   "cell_type": "code",
   "execution_count": 388,
   "id": "e5229306-a780-4425-87b1-ac90e544bb12",
   "metadata": {},
   "outputs": [],
   "source": [
    "class ChipDesignGraph:\n",
    "    def __init__(self,circuit_name):\n",
    "        \n",
    "        self.circuit = cg.from_file(circuit_name, blackboxes= genus_flops + dc_flops)\n",
    "        self.circuit_name = self.circuit.name+'.v'\n",
    "        \n",
    "        self.grid_size = circuit_info[self.circuit_name]\n",
    "        \n",
    "        self.design_graph = nx.grid_2d_graph(*self.grid_size)\n",
    "        self.node_attributes = {}\n",
    "        self.edge_attributes = {}\n",
    "\n",
    "    def add_node_attributes(self,  node_data):\n",
    "        \"\"\"\n",
    "        Add attributes to each node in the graph.\n",
    "        node_data: Dictionary mapping node IDs to attribute dictionaries.\n",
    "        \"\"\"\n",
    "        self.node_attributes.update(node_data)\n",
    "        for node, data in node_data.items():\n",
    "            self.design_graph.nodes[node].update(data)\n",
    "\n",
    "    \n",
    "    def add_edge_attributes(self, edge_data):\n",
    "        \"\"\"\n",
    "        Add attributes to edges in the graph.\n",
    "        edge_data: Dictionary mapping edge tuples (u, v) to attribute dictionaries.\n",
    "        \"\"\"\n",
    "        self.edge_attributes.update(edge_data)\n",
    "        for edge, data in edge_data.items():\n",
    "            self.design_graph.edges[edge].update(data)\n",
    "    def DrawGraph(self):\n",
    "        return nx.draw_spectral(self.design_graph)\n",
    "        \n",
    "        \n",
    "    "
   ]
  },
  {
   "cell_type": "code",
   "execution_count": 394,
   "id": "985f633d-bbb0-444f-a6d3-aa566618ece0",
   "metadata": {},
   "outputs": [],
   "source": [
    "aman = ChipDesignGraph('../Data/Circuits/c7552.v')"
   ]
  },
  {
   "cell_type": "code",
   "execution_count": 297,
   "id": "0a93ab60-03a5-4b00-8196-109dab018bc3",
   "metadata": {},
   "outputs": [
    {
     "data": {
      "text/plain": [
       "['__class__',\n",
       " '__contains__',\n",
       " '__delattr__',\n",
       " '__dict__',\n",
       " '__dir__',\n",
       " '__doc__',\n",
       " '__eq__',\n",
       " '__format__',\n",
       " '__ge__',\n",
       " '__getattribute__',\n",
       " '__getitem__',\n",
       " '__getstate__',\n",
       " '__gt__',\n",
       " '__hash__',\n",
       " '__init__',\n",
       " '__init_subclass__',\n",
       " '__iter__',\n",
       " '__le__',\n",
       " '__len__',\n",
       " '__lt__',\n",
       " '__module__',\n",
       " '__ne__',\n",
       " '__new__',\n",
       " '__reduce__',\n",
       " '__reduce_ex__',\n",
       " '__repr__',\n",
       " '__setattr__',\n",
       " '__sizeof__',\n",
       " '__str__',\n",
       " '__subclasshook__',\n",
       " '__weakref__',\n",
       " '_adj',\n",
       " '_node',\n",
       " 'add_edge',\n",
       " 'add_edges_from',\n",
       " 'add_node',\n",
       " 'add_nodes_from',\n",
       " 'add_weighted_edges_from',\n",
       " 'adj',\n",
       " 'adjacency',\n",
       " 'adjlist_inner_dict_factory',\n",
       " 'adjlist_outer_dict_factory',\n",
       " 'clear',\n",
       " 'clear_edges',\n",
       " 'copy',\n",
       " 'degree',\n",
       " 'edge_attr_dict_factory',\n",
       " 'edge_subgraph',\n",
       " 'edges',\n",
       " 'get_edge_data',\n",
       " 'graph',\n",
       " 'graph_attr_dict_factory',\n",
       " 'has_edge',\n",
       " 'has_node',\n",
       " 'is_directed',\n",
       " 'is_multigraph',\n",
       " 'name',\n",
       " 'nbunch_iter',\n",
       " 'neighbors',\n",
       " 'node_attr_dict_factory',\n",
       " 'node_dict_factory',\n",
       " 'nodes',\n",
       " 'number_of_edges',\n",
       " 'number_of_nodes',\n",
       " 'order',\n",
       " 'remove_edge',\n",
       " 'remove_edges_from',\n",
       " 'remove_node',\n",
       " 'remove_nodes_from',\n",
       " 'size',\n",
       " 'subgraph',\n",
       " 'to_directed',\n",
       " 'to_directed_class',\n",
       " 'to_undirected',\n",
       " 'to_undirected_class',\n",
       " 'update']"
      ]
     },
     "execution_count": 297,
     "metadata": {},
     "output_type": "execute_result"
    }
   ],
   "source": [
    "dir(aman.design_graph)"
   ]
  },
  {
   "cell_type": "code",
   "execution_count": null,
   "id": "b9d659b2-3a4c-4468-b6f3-f9959d15dfbd",
   "metadata": {},
   "outputs": [],
   "source": []
  }
 ],
 "metadata": {
  "kernelspec": {
   "display_name": "Python 3 (ipykernel)",
   "language": "python",
   "name": "python3"
  },
  "language_info": {
   "codemirror_mode": {
    "name": "ipython",
    "version": 3
   },
   "file_extension": ".py",
   "mimetype": "text/x-python",
   "name": "python",
   "nbconvert_exporter": "python",
   "pygments_lexer": "ipython3",
   "version": "3.12.0"
  }
 },
 "nbformat": 4,
 "nbformat_minor": 5
}
