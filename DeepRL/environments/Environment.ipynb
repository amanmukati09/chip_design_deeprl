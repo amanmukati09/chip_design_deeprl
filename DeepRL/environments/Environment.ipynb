{
 "cells": [
  {
   "cell_type": "code",
   "execution_count": 11,
   "id": "f33add88-5a39-46ab-9be2-cd3e50fb834c",
   "metadata": {},
   "outputs": [],
   "source": [
    "import gym\n",
    "import pandas as pd\n",
    "import networkx as nx\n",
    "import circuitgraph as cg\n",
    "import torch as tch\n",
    "from gym import Env, spaces"
   ]
  },
  {
   "cell_type": "code",
   "execution_count": 38,
   "id": "6bad5cd9-9d7f-4184-897b-4589f0c7e49a",
   "metadata": {},
   "outputs": [],
   "source": [
    "import numpy as np"
   ]
  },
  {
   "cell_type": "code",
   "execution_count": 8,
   "id": "2a49537c-e719-4c7f-b1a5-84b37638adf6",
   "metadata": {},
   "outputs": [],
   "source": [
    "%run graph.ipynb"
   ]
  },
  {
   "cell_type": "code",
   "execution_count": 39,
   "id": "d5497ea9-a6ac-4138-b277-a34b9d077af2",
   "metadata": {},
   "outputs": [],
   "source": [
    "class ChipDesignEnv(Env):\n",
    "    def __init__(self, circuit_name):\n",
    "        super(ChipDesignEnv, self).__init__()\n",
    "        self.circuit_name = circuit_name\n",
    "        self.circuit_graph = ChipDesignGraph(circuit_name)\n",
    "        self.grid_size = self.circuit_graph.grid_size\n",
    "        self.design_graph = self.circuit_graph.design_graph\n",
    "        self.node_attributes = self.circuit_graph.dict_of_node_to_attributes_\n",
    "        \n",
    "        # Observation Space...\n",
    "        self.action_space = spaces.Discrete(self.grid_size[0] * self.grid_size[1])\n",
    "        self.observation_space = spaces.Box(low=0, high=1, shape=(self.grid_size[0], self.grid_size[1]), dtype=np.float32)\n",
    "        \n",
    "        # Initialize the grid\n",
    "        self.grid = np.zeros(self.grid_size)\n",
    "        self.placed_nodes = set()\n",
    "\n",
    "    def reset(self):\n",
    "        self.grid = np.zeros(self.grid_size)\n",
    "        self.placed_nodes = set()\n",
    "        return self.grid\n",
    "\n",
    "    def step(self, action):\n",
    "        node_index = len(self.placed_nodes)\n",
    "        if node_index >= len(self.node_attributes):\n",
    "            raise ValueError(\"All nodes have already been placed.\")\n",
    "        \n",
    "        node_name = list(self.node_attributes.keys())[node_index]\n",
    "        node_info = self.node_attributes[node_name]\n",
    "        \n",
    "        row, col = divmod(action, self.grid_size[1])\n",
    "        \n",
    "        if self.grid[row, col] != 0:\n",
    "            return self.grid, -1, False, {}\n",
    "        \n",
    "        self.grid[row, col] = 1\n",
    "        self.placed_nodes.add((row, col))\n",
    "        \n",
    "        reward = self.calculate_reward()\n",
    "        done = len(self.placed_nodes) == len(self.node_attributes)\n",
    "        \n",
    "        return self.grid, reward, done, {}\n",
    "\n",
    "    def calculate_reward(self):\n",
    "        wirelength = self.calculate_wirelength()\n",
    "        dynamic_power = self.calculate_dynamic_power()\n",
    "        signal_delay = self.calculate_signal_delay()\n",
    "        reward = -(wirelength + dynamic_power + signal_delay)\n",
    "        return reward\n",
    "\n",
    "    def calculate_wirelength(self):\n",
    "        wirelength = 0\n",
    "        positions = list(self.placed_nodes)\n",
    "        for i in range(len(positions)):\n",
    "            for j in range(i + 1, len(positions)):\n",
    "                wirelength += abs(positions[i][0] - positions[j][0]) + abs(positions[i][1] - positions[j][1])\n",
    "        return wirelength\n",
    "\n",
    "    def calculate_dynamic_power(self):\n",
    "        dynamic_power = 0\n",
    "        positions = list(self.placed_nodes)\n",
    "        for i in range(len(positions)):\n",
    "            for j in range(i + 1, len(positions)):\n",
    "                cap = self.node_attributes[i][\"p1_cap\"] + self.node_attributes[j][\"p2_cap\"]\n",
    "                distance = abs(positions[i][0] - positions[j][0]) + abs(positions[i][1] - positions[j][1])\n",
    "                dynamic_power += cap * distance\n",
    "        return dynamic_power\n",
    "\n",
    "    def calculate_signal_delay(self):\n",
    "        signal_delay = 0\n",
    "        positions = list(self.placed_nodes)\n",
    "        for i in range(len(positions)):\n",
    "            for j in range(i + 1, len(positions)):\n",
    "                wire_cap = 1  # Example assumption\n",
    "                gate_cap = 2  # Example assumption\n",
    "                distance = abs(positions[i][0] - positions[j][0]) + abs(positions[i][1] - positions[j][1])\n",
    "                signal_delay += (wire_cap * distance + gate_cap) * distance\n",
    "        return signal_delay\n",
    "\n",
    "    def render(self, mode='human'):\n",
    "        print(self.grid)"
   ]
  },
  {
   "cell_type": "code",
   "execution_count": 40,
   "id": "bdad06c3-1df6-44fb-b0ed-f95f9d4ff6c2",
   "metadata": {},
   "outputs": [],
   "source": [
    "env = ChipDesignEnv('c17.v')"
   ]
  },
  {
   "cell_type": "code",
   "execution_count": 42,
   "id": "ed6a4017-a79c-4b92-94ad-d9302ee8d86c",
   "metadata": {},
   "outputs": [],
   "source": [
    "state = env.reset()"
   ]
  },
  {
   "cell_type": "code",
   "execution_count": 44,
   "id": "a8c710fe-9035-4bbc-b3af-b7c91c629bc9",
   "metadata": {},
   "outputs": [
    {
     "data": {
      "text/plain": [
       "array([[0., 0., 0., 0.],\n",
       "       [0., 0., 0., 0.],\n",
       "       [0., 0., 0., 0.],\n",
       "       [0., 0., 0., 0.]])"
      ]
     },
     "execution_count": 44,
     "metadata": {},
     "output_type": "execute_result"
    }
   ],
   "source": [
    "state"
   ]
  },
  {
   "cell_type": "code",
   "execution_count": 45,
   "id": "844a3e41-a95a-448c-bd2a-e410e94c22e0",
   "metadata": {},
   "outputs": [],
   "source": [
    "next_state, reward, done, _ = env.step(0)\n"
   ]
  },
  {
   "cell_type": "code",
   "execution_count": 46,
   "id": "4e360640-21e1-435a-a06c-b6f2a1ad0aac",
   "metadata": {},
   "outputs": [
    {
     "name": "stdout",
     "output_type": "stream",
     "text": [
      "State after placing first node at position 0:\n",
      "[[1. 0. 0. 0.]\n",
      " [0. 0. 0. 0.]\n",
      " [0. 0. 0. 0.]\n",
      " [0. 0. 0. 0.]]\n",
      "Reward: 0\n",
      "Done: False\n"
     ]
    }
   ],
   "source": [
    "print(\"State after placing first node at position 0:\")\n",
    "print(next_state)\n",
    "print(\"Reward:\", reward)\n",
    "print(\"Done:\", done)"
   ]
  },
  {
   "cell_type": "code",
   "execution_count": 47,
   "id": "ed7b53fe-cf1e-4577-b51d-d624d75ac8b3",
   "metadata": {},
   "outputs": [
    {
     "ename": "KeyError",
     "evalue": "0",
     "output_type": "error",
     "traceback": [
      "\u001b[1;31m---------------------------------------------------------------------------\u001b[0m",
      "\u001b[1;31mKeyError\u001b[0m                                  Traceback (most recent call last)",
      "Cell \u001b[1;32mIn[47], line 3\u001b[0m\n\u001b[0;32m      1\u001b[0m actions \u001b[38;5;241m=\u001b[39m [\u001b[38;5;241m5\u001b[39m, \u001b[38;5;241m10\u001b[39m, \u001b[38;5;241m15\u001b[39m, \u001b[38;5;241m3\u001b[39m, \u001b[38;5;241m7\u001b[39m]\n\u001b[0;32m      2\u001b[0m \u001b[38;5;28;01mfor\u001b[39;00m action \u001b[38;5;129;01min\u001b[39;00m actions:\n\u001b[1;32m----> 3\u001b[0m     next_state, reward, done, _ \u001b[38;5;241m=\u001b[39m \u001b[43menv\u001b[49m\u001b[38;5;241;43m.\u001b[39;49m\u001b[43mstep\u001b[49m\u001b[43m(\u001b[49m\u001b[43maction\u001b[49m\u001b[43m)\u001b[49m\n\u001b[0;32m      4\u001b[0m     \u001b[38;5;28mprint\u001b[39m(\u001b[38;5;124m\"\u001b[39m\u001b[38;5;124mNext State:\u001b[39m\u001b[38;5;124m\"\u001b[39m)\n\u001b[0;32m      5\u001b[0m     \u001b[38;5;28mprint\u001b[39m(next_state)\n",
      "Cell \u001b[1;32mIn[39], line 39\u001b[0m, in \u001b[0;36mChipDesignEnv.step\u001b[1;34m(self, action)\u001b[0m\n\u001b[0;32m     36\u001b[0m \u001b[38;5;28mself\u001b[39m\u001b[38;5;241m.\u001b[39mgrid[row, col] \u001b[38;5;241m=\u001b[39m \u001b[38;5;241m1\u001b[39m\n\u001b[0;32m     37\u001b[0m \u001b[38;5;28mself\u001b[39m\u001b[38;5;241m.\u001b[39mplaced_nodes\u001b[38;5;241m.\u001b[39madd((row, col))\n\u001b[1;32m---> 39\u001b[0m reward \u001b[38;5;241m=\u001b[39m \u001b[38;5;28;43mself\u001b[39;49m\u001b[38;5;241;43m.\u001b[39;49m\u001b[43mcalculate_reward\u001b[49m\u001b[43m(\u001b[49m\u001b[43m)\u001b[49m\n\u001b[0;32m     40\u001b[0m done \u001b[38;5;241m=\u001b[39m \u001b[38;5;28mlen\u001b[39m(\u001b[38;5;28mself\u001b[39m\u001b[38;5;241m.\u001b[39mplaced_nodes) \u001b[38;5;241m==\u001b[39m \u001b[38;5;28mlen\u001b[39m(\u001b[38;5;28mself\u001b[39m\u001b[38;5;241m.\u001b[39mnode_attributes)\n\u001b[0;32m     42\u001b[0m \u001b[38;5;28;01mreturn\u001b[39;00m \u001b[38;5;28mself\u001b[39m\u001b[38;5;241m.\u001b[39mgrid, reward, done, {}\n",
      "Cell \u001b[1;32mIn[39], line 46\u001b[0m, in \u001b[0;36mChipDesignEnv.calculate_reward\u001b[1;34m(self)\u001b[0m\n\u001b[0;32m     44\u001b[0m \u001b[38;5;28;01mdef\u001b[39;00m \u001b[38;5;21mcalculate_reward\u001b[39m(\u001b[38;5;28mself\u001b[39m):\n\u001b[0;32m     45\u001b[0m     wirelength \u001b[38;5;241m=\u001b[39m \u001b[38;5;28mself\u001b[39m\u001b[38;5;241m.\u001b[39mcalculate_wirelength()\n\u001b[1;32m---> 46\u001b[0m     dynamic_power \u001b[38;5;241m=\u001b[39m \u001b[38;5;28;43mself\u001b[39;49m\u001b[38;5;241;43m.\u001b[39;49m\u001b[43mcalculate_dynamic_power\u001b[49m\u001b[43m(\u001b[49m\u001b[43m)\u001b[49m\n\u001b[0;32m     47\u001b[0m     signal_delay \u001b[38;5;241m=\u001b[39m \u001b[38;5;28mself\u001b[39m\u001b[38;5;241m.\u001b[39mcalculate_signal_delay()\n\u001b[0;32m     48\u001b[0m     reward \u001b[38;5;241m=\u001b[39m \u001b[38;5;241m-\u001b[39m(wirelength \u001b[38;5;241m+\u001b[39m dynamic_power \u001b[38;5;241m+\u001b[39m signal_delay)\n",
      "Cell \u001b[1;32mIn[39], line 64\u001b[0m, in \u001b[0;36mChipDesignEnv.calculate_dynamic_power\u001b[1;34m(self)\u001b[0m\n\u001b[0;32m     62\u001b[0m \u001b[38;5;28;01mfor\u001b[39;00m i \u001b[38;5;129;01min\u001b[39;00m \u001b[38;5;28mrange\u001b[39m(\u001b[38;5;28mlen\u001b[39m(positions)):\n\u001b[0;32m     63\u001b[0m     \u001b[38;5;28;01mfor\u001b[39;00m j \u001b[38;5;129;01min\u001b[39;00m \u001b[38;5;28mrange\u001b[39m(i \u001b[38;5;241m+\u001b[39m \u001b[38;5;241m1\u001b[39m, \u001b[38;5;28mlen\u001b[39m(positions)):\n\u001b[1;32m---> 64\u001b[0m         cap \u001b[38;5;241m=\u001b[39m \u001b[38;5;28;43mself\u001b[39;49m\u001b[38;5;241;43m.\u001b[39;49m\u001b[43mnode_attributes\u001b[49m\u001b[43m[\u001b[49m\u001b[43mi\u001b[49m\u001b[43m]\u001b[49m[\u001b[38;5;124m\"\u001b[39m\u001b[38;5;124mp1_cap\u001b[39m\u001b[38;5;124m\"\u001b[39m] \u001b[38;5;241m+\u001b[39m \u001b[38;5;28mself\u001b[39m\u001b[38;5;241m.\u001b[39mnode_attributes[j][\u001b[38;5;124m\"\u001b[39m\u001b[38;5;124mp2_cap\u001b[39m\u001b[38;5;124m\"\u001b[39m]\n\u001b[0;32m     65\u001b[0m         distance \u001b[38;5;241m=\u001b[39m \u001b[38;5;28mabs\u001b[39m(positions[i][\u001b[38;5;241m0\u001b[39m] \u001b[38;5;241m-\u001b[39m positions[j][\u001b[38;5;241m0\u001b[39m]) \u001b[38;5;241m+\u001b[39m \u001b[38;5;28mabs\u001b[39m(positions[i][\u001b[38;5;241m1\u001b[39m] \u001b[38;5;241m-\u001b[39m positions[j][\u001b[38;5;241m1\u001b[39m])\n\u001b[0;32m     66\u001b[0m         dynamic_power \u001b[38;5;241m+\u001b[39m\u001b[38;5;241m=\u001b[39m cap \u001b[38;5;241m*\u001b[39m distance\n",
      "\u001b[1;31mKeyError\u001b[0m: 0"
     ]
    }
   ],
   "source": [
    "actions = [5, 10, 15, 3, 7]\n",
    "for action in actions:\n",
    "    next_state, reward, done, _ = env.step(action)\n",
    "    print(\"Next State:\")\n",
    "    print(next_state)\n",
    "    print(\"Reward:\", reward)\n",
    "    print(\"Done:\", done)\n",
    "    if done:\n",
    "        break"
   ]
  },
  {
   "cell_type": "code",
   "execution_count": null,
   "id": "4b338fbd-e8f6-4915-947b-3079029e0dab",
   "metadata": {},
   "outputs": [],
   "source": []
  }
 ],
 "metadata": {
  "kernelspec": {
   "display_name": "Python 3 (ipykernel)",
   "language": "python",
   "name": "python3"
  },
  "language_info": {
   "codemirror_mode": {
    "name": "ipython",
    "version": 3
   },
   "file_extension": ".py",
   "mimetype": "text/x-python",
   "name": "python",
   "nbconvert_exporter": "python",
   "pygments_lexer": "ipython3",
   "version": "3.12.0"
  }
 },
 "nbformat": 4,
 "nbformat_minor": 5
}
